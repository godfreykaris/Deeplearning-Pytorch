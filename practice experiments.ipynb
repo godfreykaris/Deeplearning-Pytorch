{
 "cells": [
  {
   "cell_type": "markdown",
   "id": "a0b82d21-dc7b-4417-a949-cf6f1f2f4ebb",
   "metadata": {},
   "source": [
    "<center><b>Model to Classify Intergers as Positive or Negative </b></center>"
   ]
  },
  {
   "cell_type": "code",
   "execution_count": 462,
   "id": "52953460-acda-4e53-8aad-ecad864d675a",
   "metadata": {},
   "outputs": [],
   "source": [
    "# Import required modules\n",
    "import torch\n",
    "from torch import nn\n",
    "\n",
    "import matplotlib.pyplot as plt\n",
    "from sklearn.model_selection import train_test_split\n",
    "import numpy as np\n",
    "\n",
    "# Use device agnostic code\n",
    "device = \"cuda\" if torch.cuda.is_available() else \"cpu\"\n"
   ]
  },
  {
   "cell_type": "code",
   "execution_count": 463,
   "id": "22a610c6-4f1e-4866-87e4-9fc87d97c9d5",
   "metadata": {},
   "outputs": [],
   "source": [
    "\n",
    "# Set the hyperparameters fro data creation\n",
    "NUM_CLASSES = 2\n",
    "NUM_FEATURES = 4\n",
    "RANDOM_SEED = 42\n",
    "\n",
    "# 1. Create multi-class data\n",
    "inputs =   np.array([[0,0,0,0], # 0\n",
    "                     [0,0,0,1], # 1\n",
    "                     [0,0,1,0], # 2\n",
    "                     [0,0,1,1], # 3\n",
    "                     [0,1,0,0], # 4\n",
    "                     [0,1,0,1], # 5\n",
    "                     [0,1,1,0], # 6\n",
    "                     [0,1,1,1], # 7\n",
    "                     [1,0,0,0], # 8\n",
    "                     [1,0,0,1]])  # 9\n",
    "\n",
    "outputs = np.array([[0,0], # 0\n",
    "                   [0,1], # 1\n",
    "                   [1,0], # 2\n",
    "                   [0,1], # 3\n",
    "                   [1,0], # 4\n",
    "                   [0,1], # 5\n",
    "                   [1,0], # 6\n",
    "                   [0,1], # 7\n",
    "                   [1,0], # 8\n",
    "                   [0,1]]) # 9\n",
    "\n",
    "\n",
    "# 2. Turn data into tensors\n",
    "X = torch.from_numpy(inputs).type(torch.float)\n",
    "y = torch.from_numpy(outputs).type(torch.FloatTensor)\n",
    "\n",
    "# 3. Split into train and test sets\n",
    "X_train, X_test, y_train, y_test = train_test_split(X,y,test_size=0.5, random_state=RANDOM_SEED)\n"
   ]
  },
  {
   "cell_type": "code",
   "execution_count": 464,
   "id": "5f7dbfd2-d70d-4dda-8e93-020aecc8e09d",
   "metadata": {},
   "outputs": [],
   "source": [
    "# 4. Build model\n",
    "class ModelEO(nn.Module):\n",
    "    def __init__(self, input_features, output_features, hidden_units=8):\n",
    "        \"\"\"Initialize all required hyperparameters for a multi-class classification model.\n",
    "\n",
    "        Args:\n",
    "            input_features (int): Number of input features to the model.\n",
    "            out_features (int): Number of output features of the model\n",
    "                (how many classes there are).\n",
    "            hidden_units (int): Number of hidden units between layers, default 8.\n",
    "        \"\"\"\n",
    "        super().__init__()\n",
    "        self.linear_layer_stack = nn.Sequential(\n",
    "            nn.Linear(in_features=input_features, out_features=hidden_units),\n",
    "            nn.ReLU(), # <- does our dataset require non-linear layers? (try uncommenting and see if the results change)\n",
    "            nn.Linear(in_features=hidden_units, out_features=hidden_units),\n",
    "            nn.ReLU(), # <- does our dataset require non-linear layers? (try uncommenting and see if the results change)\n",
    "            nn.Linear(in_features=hidden_units, out_features=output_features), # how many classes are there?\n",
    "        )\n",
    "\n",
    "    def forward(self, x):\n",
    "        return self.linear_layer_stack(x)"
   ]
  },
  {
   "cell_type": "code",
   "execution_count": 465,
   "id": "3fb94197-411d-4003-95c4-d8cb4ac48e95",
   "metadata": {},
   "outputs": [
    {
     "data": {
      "text/plain": [
       "ModelEO(\n",
       "  (linear_layer_stack): Sequential(\n",
       "    (0): Linear(in_features=4, out_features=8, bias=True)\n",
       "    (1): ReLU()\n",
       "    (2): Linear(in_features=8, out_features=8, bias=True)\n",
       "    (3): ReLU()\n",
       "    (4): Linear(in_features=8, out_features=2, bias=True)\n",
       "  )\n",
       ")"
      ]
     },
     "execution_count": 465,
     "metadata": {},
     "output_type": "execute_result"
    }
   ],
   "source": [
    "# 5. Create an instance of BlobMOdel and send it to the target device\n",
    "model_eo = ModelEO(input_features=NUM_FEATURES,\n",
    "                    output_features=NUM_CLASSES,\n",
    "                    hidden_units=8).to(device)\n",
    "\n",
    "model_eo"
   ]
  },
  {
   "cell_type": "code",
   "execution_count": 466,
   "id": "483a2c22-a5b1-4bec-b17a-5e3b75f1c9b1",
   "metadata": {},
   "outputs": [],
   "source": [
    "# 6. Create loss and optimizer\n",
    "loss_fn = nn.CrossEntropyLoss()\n",
    "optimizer = torch.optim.SGD(model_eo.parameters(), lr=0.1)"
   ]
  },
  {
   "cell_type": "code",
   "execution_count": 467,
   "id": "a76fb5b8-cdd3-4838-9c07-5e61e276a57d",
   "metadata": {},
   "outputs": [],
   "source": [
    "def accuracy_fn(y_true, y_pred):\n",
    "    correct = torch.eq(torch.softmax(y_true, dim=1).argmax(dim=1), y_pred).sum().item() # torch.eq() calculates where two tensors are equal\n",
    "    acc = (correct / len(y_pred)) * 100\n",
    "    return acc"
   ]
  },
  {
   "cell_type": "code",
   "execution_count": 468,
   "id": "ceb10ac9-ce4c-4e6f-bbef-7eac15f730f5",
   "metadata": {},
   "outputs": [
    {
     "data": {
      "text/plain": [
       "tensor([[0.1287, 0.0967],\n",
       "        [0.0655, 0.0102],\n",
       "        [0.1297, 0.1336],\n",
       "        [0.1085, 0.0773],\n",
       "        [0.1433, 0.1145]], grad_fn=<SliceBackward0>)"
      ]
     },
     "execution_count": 468,
     "metadata": {},
     "output_type": "execute_result"
    }
   ],
   "source": [
    "# 7. Perform a single forward pass on the data (we'll need to put it to the target device for it to work)\n",
    "model_eo(X_train.to(device))[:5]"
   ]
  },
  {
   "cell_type": "code",
   "execution_count": 469,
   "id": "26739eef-07e1-4a6f-b849-197ea7561c7d",
   "metadata": {},
   "outputs": [
    {
     "data": {
      "text/plain": [
       "(torch.Size([2]), 2)"
      ]
     },
     "execution_count": 469,
     "metadata": {},
     "output_type": "execute_result"
    }
   ],
   "source": [
    "model_eo(X_train.to(device))[0].shape, NUM_CLASSES"
   ]
  },
  {
   "cell_type": "code",
   "execution_count": 470,
   "id": "1da71280-3db2-40bc-b02b-9e106284a8c0",
   "metadata": {},
   "outputs": [
    {
     "name": "stdout",
     "output_type": "stream",
     "text": [
      "tensor([[0.1013, 0.0637],\n",
      "        [0.1059, 0.1061],\n",
      "        [0.0935, 0.1281],\n",
      "        [0.1459, 0.1289],\n",
      "        [0.1261, 0.1161]], grad_fn=<SliceBackward0>)\n",
      "tensor([[0.5094, 0.4906],\n",
      "        [0.4999, 0.5001],\n",
      "        [0.4914, 0.5086],\n",
      "        [0.5042, 0.4958],\n",
      "        [0.5025, 0.4975]], grad_fn=<SliceBackward0>)\n"
     ]
    }
   ],
   "source": [
    "# 8. Make prediction logits with model\n",
    "y_logits = model_eo(X_test.to(device))\n",
    "\n",
    "# 9. Perform softmax calculation on logits across dimension 1 to get prediction probabilities\n",
    "y_pred_probs = torch.softmax(y_logits, dim=1)\n",
    "print(y_logits[:5])\n",
    "print(y_pred_probs[:5])"
   ]
  },
  {
   "cell_type": "code",
   "execution_count": 471,
   "id": "6bfa96b0-0f6b-4cab-8abd-3b1100e7b81a",
   "metadata": {},
   "outputs": [
    {
     "name": "stdout",
     "output_type": "stream",
     "text": [
      "tensor([0.4999, 0.5001], grad_fn=<SelectBackward0>)\n",
      "tensor(1)\n"
     ]
    }
   ],
   "source": [
    "# 10. Which class does the model think is *most* likely at the index 0 sample?\n",
    "print(y_pred_probs[1])\n",
    "print(torch.argmax(y_pred_probs[1]))"
   ]
  },
  {
   "cell_type": "code",
   "execution_count": 472,
   "id": "30b0a77e-6203-4376-bcd4-cc9a4c3e9abc",
   "metadata": {},
   "outputs": [
    {
     "name": "stdout",
     "output_type": "stream",
     "text": [
      "Epoch: 0 | Loss: 0.69625, Acc: 40.00% | Test Loss: 0.55141, Test Acc: 60.00%\n",
      "Epoch: 10 | Loss: 0.66588, Acc: 60.00% | Test Loss: 0.57682, Test Acc: 40.00%\n",
      "Epoch: 20 | Loss: 0.64063, Acc: 60.00% | Test Loss: 0.59097, Test Acc: 40.00%\n",
      "Epoch: 30 | Loss: 0.60351, Acc: 80.00% | Test Loss: 0.59361, Test Acc: 40.00%\n",
      "Epoch: 40 | Loss: 0.53508, Acc: 100.00% | Test Loss: 0.57856, Test Acc: 40.00%\n",
      "Epoch: 50 | Loss: 0.43009, Acc: 100.00% | Test Loss: 0.54787, Test Acc: 40.00%\n",
      "Epoch: 60 | Loss: 0.31050, Acc: 100.00% | Test Loss: 0.49931, Test Acc: 80.00%\n",
      "Epoch: 70 | Loss: 0.21587, Acc: 100.00% | Test Loss: 0.44513, Test Acc: 80.00%\n",
      "Epoch: 80 | Loss: 0.15264, Acc: 100.00% | Test Loss: 0.40322, Test Acc: 80.00%\n",
      "Epoch: 90 | Loss: 0.11057, Acc: 100.00% | Test Loss: 0.36944, Test Acc: 80.00%\n",
      "Epoch: 100 | Loss: 0.08189, Acc: 100.00% | Test Loss: 0.33862, Test Acc: 80.00%\n",
      "Epoch: 110 | Loss: 0.06219, Acc: 100.00% | Test Loss: 0.31243, Test Acc: 80.00%\n",
      "Epoch: 120 | Loss: 0.04847, Acc: 100.00% | Test Loss: 0.28982, Test Acc: 80.00%\n",
      "Epoch: 130 | Loss: 0.03877, Acc: 100.00% | Test Loss: 0.27074, Test Acc: 80.00%\n",
      "Epoch: 140 | Loss: 0.03169, Acc: 100.00% | Test Loss: 0.25460, Test Acc: 80.00%\n",
      "Epoch: 150 | Loss: 0.02639, Acc: 100.00% | Test Loss: 0.24074, Test Acc: 80.00%\n",
      "Epoch: 160 | Loss: 0.02232, Acc: 100.00% | Test Loss: 0.22862, Test Acc: 100.00%\n",
      "Epoch: 170 | Loss: 0.01915, Acc: 100.00% | Test Loss: 0.21789, Test Acc: 100.00%\n",
      "Epoch: 180 | Loss: 0.01662, Acc: 100.00% | Test Loss: 0.20844, Test Acc: 100.00%\n",
      "Epoch: 190 | Loss: 0.01459, Acc: 100.00% | Test Loss: 0.20004, Test Acc: 100.00%\n"
     ]
    }
   ],
   "source": [
    "# 11. Fit the model\n",
    "torch.manual_seed(42)\n",
    "\n",
    "# Set number of epochs\n",
    "epochs = 200\n",
    "\n",
    "# Put data to target device\n",
    "X_train, y_train = X_train.to(device), y_train.to(device)\n",
    "X_test, y_test = X_test.to(device), y_test.to(device)\n",
    "\n",
    "for epoch in range(epochs):\n",
    "    ### Training\n",
    "    model_eo.train()\n",
    "\n",
    "    # 1. Forward pass\n",
    "    y_logits = model_eo(X_train) # model outputs raw logits\n",
    "    y_pred = torch.softmax(y_logits, dim=1).argmax(dim=1) # go from logits -> prediction probabilities -> prediction labels\n",
    "    #print(y_logits)\n",
    "    # 2. Calculate loss and accuracy\n",
    "    loss = loss_fn(y_logits, y_train)\n",
    "    acc = accuracy_fn(y_true=y_train,\n",
    "                      y_pred=y_pred)\n",
    "\n",
    "    # 3. Optimizer zero grad\n",
    "    optimizer.zero_grad()\n",
    "\n",
    "    # 4. Loss backwards\n",
    "    loss.backward()\n",
    "\n",
    "    # 5. Optimizer step\n",
    "    optimizer.step()\n",
    "\n",
    "    ### Testing\n",
    "    model_eo.eval()\n",
    "    with torch.inference_mode():\n",
    "        # 1. Forward pass\n",
    "        test_logits = model_eo(X_test)\n",
    "        test_pred = torch.softmax(test_logits, dim=1).argmax(dim=1)\n",
    "        # 2. Calculate test loss and accuracy\n",
    "        test_loss = loss_fn(test_logits, y_test)\n",
    "        test_acc = accuracy_fn(y_true=y_test,\n",
    "                               y_pred=test_pred)\n",
    "\n",
    "    # Print out what's happening\n",
    "    if epoch % 10 == 0:\n",
    "        # print(y_pred)\n",
    "        print(f\"Epoch: {epoch} | Loss: {loss:.5f}, Acc: {acc:.2f}% | Test Loss: {test_loss:.5f}, Test Acc: {test_acc:.2f}%\")"
   ]
  },
  {
   "cell_type": "code",
   "execution_count": 473,
   "id": "2eb8c503-6e78-4707-aa63-cf4b38cda1d6",
   "metadata": {},
   "outputs": [
    {
     "name": "stdout",
     "output_type": "stream",
     "text": [
      "Saving model to: models/even_odd_classifier_model_0.pth\n"
     ]
    }
   ],
   "source": [
    "# 12. Save the model\n",
    "from pathlib import Path\n",
    "\n",
    "# 1.Models directory\n",
    "MODEL_PATH = Path(\"models\")\n",
    "\n",
    "# 2. Create model save path\n",
    "MODEL_NAME = \"even_odd_classifier_model_0.pth\"\n",
    "MODEL_SAVE_PATH = MODEL_PATH / MODEL_NAME\n",
    "\n",
    "# 3. Save the model state dict\n",
    "print(f\"Saving model to: {MODEL_SAVE_PATH}\")\n",
    "torch.save(obj=model_eo.state_dict(), # only saving the state_dict() only saves the models learned parameters\n",
    "           f=MODEL_SAVE_PATH)"
   ]
  },
  {
   "cell_type": "code",
   "execution_count": 474,
   "id": "23ceb77d-3fc0-4b3e-82e9-9428fcfe0b55",
   "metadata": {},
   "outputs": [
    {
     "data": {
      "text/plain": [
       "ModelEO(\n",
       "  (linear_layer_stack): Sequential(\n",
       "    (0): Linear(in_features=4, out_features=8, bias=True)\n",
       "    (1): ReLU()\n",
       "    (2): Linear(in_features=8, out_features=8, bias=True)\n",
       "    (3): ReLU()\n",
       "    (4): Linear(in_features=8, out_features=2, bias=True)\n",
       "  )\n",
       ")"
      ]
     },
     "execution_count": 474,
     "metadata": {},
     "output_type": "execute_result"
    }
   ],
   "source": [
    "# Load and use model\n",
    "# Create a new instance of our model class\n",
    "loaded_model_eo = ModelEO(input_features=NUM_FEATURES,\n",
    "                          output_features=NUM_CLASSES,\n",
    "                          hidden_units=8).to(device)\n",
    "\n",
    "# Load saved model state_dict\n",
    "loaded_model_eo.load_state_dict(torch.load(f=MODEL_SAVE_PATH), strict=False)\n",
    "\n",
    "loaded_model_eo"
   ]
  },
  {
   "cell_type": "code",
   "execution_count": 475,
   "id": "416e438e-dac9-4be3-b77f-b2fb8324e83e",
   "metadata": {},
   "outputs": [
    {
     "name": "stdout",
     "output_type": "stream",
     "text": [
      "Accuracy: 100.0% \n"
     ]
    },
    {
     "data": {
      "text/plain": [
       "(tensor([[1., 0., 0., 0.],\n",
       "         [0., 0., 0., 1.],\n",
       "         [0., 1., 0., 1.],\n",
       "         [0., 0., 0., 0.],\n",
       "         [0., 1., 1., 1.]]),\n",
       " tensor([0, 1, 1, 0, 1]))"
      ]
     },
     "execution_count": 475,
     "metadata": {},
     "output_type": "execute_result"
    }
   ],
   "source": [
    "# Use it for inference\n",
    "loaded_model_eo.eval()\n",
    "\n",
    "with torch.inference_mode():\n",
    "    # 1. Forward pass\n",
    "    y_logits = loaded_model_eo(X_test)\n",
    "    y_preds = torch.softmax(y_logits, dim=1).argmax(dim=1)\n",
    "\n",
    "    # 2. Calculate accuracy\n",
    "    acc = accuracy_fn(y_true=y_test,\n",
    "                             y_pred=test_pred)\n",
    "\n",
    "# Print the result\n",
    "print(f\"Accuracy: {acc}% \")\n",
    "X_test, y_preds"
   ]
  },
  {
   "cell_type": "code",
   "execution_count": 476,
   "id": "8cfda586-02a3-414d-8c30-429beb83b2f5",
   "metadata": {},
   "outputs": [
    {
     "data": {
      "text/plain": [
       "array([100, 101, 102, 103, 104, 105, 106, 107, 108, 109, 110, 111, 112,\n",
       "       113, 114, 115, 116, 117, 118, 119, 120, 121, 122, 123, 124, 125,\n",
       "       126, 127, 128, 129, 130, 131, 132, 133, 134, 135, 136, 137, 138,\n",
       "       139, 140, 141, 142, 143, 144, 145, 146, 147, 148, 149, 150, 151,\n",
       "       152, 153, 154, 155, 156, 157, 158, 159, 160, 161, 162, 163, 164,\n",
       "       165, 166, 167, 168, 169, 170, 171, 172, 173, 174, 175, 176, 177,\n",
       "       178, 179, 180, 181, 182, 183, 184, 185, 186, 187, 188, 189, 190,\n",
       "       191, 192, 193, 194, 195, 196, 197, 198, 199, 200, 201, 202, 203,\n",
       "       204, 205, 206, 207, 208, 209, 210, 211, 212, 213, 214, 215, 216,\n",
       "       217, 218, 219, 220, 221, 222, 223, 224, 225, 226, 227, 228, 229,\n",
       "       230, 231, 232, 233, 234, 235, 236, 237, 238, 239, 240, 241, 242,\n",
       "       243, 244, 245, 246, 247, 248, 249, 250, 251, 252, 253, 254, 255,\n",
       "       256, 257, 258, 259, 260, 261, 262, 263, 264, 265, 266, 267, 268,\n",
       "       269, 270, 271, 272, 273, 274, 275, 276, 277, 278, 279, 280, 281,\n",
       "       282, 283, 284, 285, 286, 287, 288, 289, 290, 291, 292, 293, 294,\n",
       "       295, 296, 297, 298, 299])"
      ]
     },
     "execution_count": 476,
     "metadata": {},
     "output_type": "execute_result"
    }
   ],
   "source": [
    "# Test on data greater than 10\n",
    "inputs = np.arange(100,300,1)\n",
    "\n",
    "inputs"
   ]
  },
  {
   "cell_type": "code",
   "execution_count": 477,
   "id": "8cfe5e97-b5a7-40fc-b46f-8a32f4985881",
   "metadata": {},
   "outputs": [
    {
     "data": {
      "text/plain": [
       "tensor([[0., 0., 0., 0.],\n",
       "        [0., 0., 0., 1.],\n",
       "        [0., 0., 1., 0.],\n",
       "        [0., 0., 1., 1.],\n",
       "        [0., 1., 0., 0.],\n",
       "        [0., 1., 0., 1.],\n",
       "        [0., 1., 1., 0.],\n",
       "        [0., 1., 1., 1.],\n",
       "        [1., 0., 0., 0.],\n",
       "        [1., 0., 0., 1.]])"
      ]
     },
     "execution_count": 477,
     "metadata": {},
     "output_type": "execute_result"
    }
   ],
   "source": [
    "# Prepare the data\n",
    "# We only need the last digit to know if a number is even or odd\n",
    "last_digits = inputs % 10\n",
    "\n",
    "# The binary equivalents of decimals 0 to 9\n",
    "binary_representations =   np.array([[0,0,0,0], # 0\n",
    "                                     [0,0,0,1], # 1\n",
    "                                     [0,0,1,0], # 2\n",
    "                                     [0,0,1,1], # 3\n",
    "                                     [0,1,0,0], # 4\n",
    "                                     [0,1,0,1], # 5\n",
    "                                     [0,1,1,0], # 6\n",
    "                                     [0,1,1,1], # 7\n",
    "                                     [1,0,0,0], # 8\n",
    "                                     [1,0,0,1]])  # 9\n",
    "\n",
    "# Reshape the last_digits array to have the same number of dimensions as binary_representations\n",
    "reshaped_last_digits = last_digits[:, np.newaxis]\n",
    "\n",
    "X = np.empty((0, 4), int)\n",
    "# Get the binary equivalents of the last_digits\n",
    "for x in range(len(reshaped_last_digits)):\n",
    "    X = np.append(X, binary_representations[reshaped_last_digits[x]], axis=0)\n",
    "\n",
    "# Turn the data into tensors\n",
    "X_inf = torch.from_numpy(X).type(torch.float)\n",
    "\n",
    "X_inf[:10]  # Display the first 10 rows of X"
   ]
  },
  {
   "cell_type": "code",
   "execution_count": 478,
   "id": "2904722b-0923-419d-948f-76cb2c70ae51",
   "metadata": {},
   "outputs": [
    {
     "name": "stdout",
     "output_type": "stream",
     "text": [
      "Input: 100 - Prediction: 0\n",
      "Input: 101 - Prediction: 1\n",
      "Input: 102 - Prediction: 0\n",
      "Input: 103 - Prediction: 1\n",
      "Input: 104 - Prediction: 0\n",
      "Input: 105 - Prediction: 1\n",
      "Input: 106 - Prediction: 0\n",
      "Input: 107 - Prediction: 1\n",
      "Input: 108 - Prediction: 0\n",
      "Input: 109 - Prediction: 1\n",
      "Input: 110 - Prediction: 0\n",
      "Input: 111 - Prediction: 1\n",
      "Input: 112 - Prediction: 0\n",
      "Input: 113 - Prediction: 1\n",
      "Input: 114 - Prediction: 0\n",
      "Input: 115 - Prediction: 1\n",
      "Input: 116 - Prediction: 0\n",
      "Input: 117 - Prediction: 1\n",
      "Input: 118 - Prediction: 0\n",
      "Input: 119 - Prediction: 1\n"
     ]
    }
   ],
   "source": [
    "\n",
    "# Peform the predictions and print the result\n",
    "loaded_model_eo.eval()\n",
    "\n",
    "with torch.inference_mode():\n",
    "    # Forward pass\n",
    "    logits = loaded_model_eo(X_inf)\n",
    "    predictions = torch.softmax(logits, dim=1).argmax(dim=1)\n",
    "\n",
    "# Print inputs against the predictions for the first 10\n",
    "for x in range(20):\n",
    "    print(f\"Input: {inputs[x]} - Prediction: {predictions[x].item()}\")\n"
   ]
  },
  {
   "cell_type": "code",
   "execution_count": null,
   "id": "c056b48a-c00b-439f-98d6-4619d1f4b5a1",
   "metadata": {},
   "outputs": [],
   "source": []
  },
  {
   "cell_type": "code",
   "execution_count": null,
   "id": "1753e422-2a6e-4cb9-9059-09a40987ba85",
   "metadata": {},
   "outputs": [],
   "source": []
  }
 ],
 "metadata": {
  "kernelspec": {
   "display_name": "Python 3 (ipykernel)",
   "language": "python",
   "name": "python3"
  },
  "language_info": {
   "codemirror_mode": {
    "name": "ipython",
    "version": 3
   },
   "file_extension": ".py",
   "mimetype": "text/x-python",
   "name": "python",
   "nbconvert_exporter": "python",
   "pygments_lexer": "ipython3",
   "version": "3.10.12"
  }
 },
 "nbformat": 4,
 "nbformat_minor": 5
}
