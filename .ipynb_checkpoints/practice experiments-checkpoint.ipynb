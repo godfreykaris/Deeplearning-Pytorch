{
 "cells": [
  {
   "cell_type": "markdown",
   "id": "a0b82d21-dc7b-4417-a949-cf6f1f2f4ebb",
   "metadata": {},
   "source": [
    "<center><b>Model to Classify Intergers as Positive or Negative </b></center>"
   ]
  },
  {
   "cell_type": "code",
   "execution_count": 235,
   "id": "52953460-acda-4e53-8aad-ecad864d675a",
   "metadata": {},
   "outputs": [],
   "source": [
    "# Import required modules\n",
    "import torch\n",
    "from torch import nn\n",
    "\n",
    "import matplotlib.pyplot as plt\n",
    "from sklearn.model_selection import train_test_split\n",
    "import numpy as np\n",
    "\n",
    "\n",
    "# Use device agnostic code\n",
    "device = \"cuda\" if torch.cuda.is_available() else \"cpu\"\n"
   ]
  },
  {
   "cell_type": "code",
   "execution_count": 236,
   "id": "9325d8af-9d60-48eb-8813-b7cb9de7e640",
   "metadata": {
    "scrolled": true
   },
   "outputs": [
    {
     "name": "stdout",
     "output_type": "stream",
     "text": [
      "First 10 figures: [0 1 2 3 4 5 6 7 8 9] Datatype: int64 Size: 100\n",
      "First 10 labels: [0 1 0 1 0 1 0 1 0 1] Datatype: int64 Size: 100\n"
     ]
    }
   ],
   "source": [
    "# Create the integer values and store in numpy array\n",
    "start = 0\n",
    "end = 100\n",
    "step = 1\n",
    "\n",
    "figures = np.arange(start, end, step)\n",
    "print(f\"First 10 figures: {figures[:10]} Datatype: {figures.dtype} Size: {figures.size}\")\n",
    "\n",
    "# Create a numpy array of the labels for figures\n",
    "labels = figures % 2\n",
    "\n",
    "\n",
    "print(f\"First 10 labels: {labels[:10]} Datatype: {labels.dtype} Size: {labels.size}\")"
   ]
  },
  {
   "cell_type": "code",
   "execution_count": 237,
   "id": "bb9ccd7a-fb5f-424b-a02b-01485629909d",
   "metadata": {},
   "outputs": [
    {
     "data": {
      "text/plain": [
       "<matplotlib.collections.PathCollection at 0x7f512ea1c850>"
      ]
     },
     "execution_count": 237,
     "metadata": {},
     "output_type": "execute_result"
    },
    {
     "data": {
      "image/png": "[encoded data removed]",
      "text/plain": [
       "<Figure size 600x400 with 1 Axes>"
      ]
     },
     "metadata": {},
     "output_type": "display_data"
    }
   ],
   "source": [
    "# Plot the data to visuaize\n",
    "x_values, y_values = figures[:10], labels[:10]\n",
    "\n",
    "plt.figure(figsize=(6,4))\n",
    "plt.scatter(x=x_values,y=y_values, c=y_values, cmap=plt.cm.RdYlBu)"
   ]
  },
  {
   "cell_type": "markdown",
   "id": "fae72100-cc4e-48ba-a751-9fa7fb763e55",
   "metadata": {},
   "source": [
    "The data is under binary classification as as a number is either even(1) or odd(0)"
   ]
  },
  {
   "cell_type": "code",
   "execution_count": 238,
   "id": "ae7c414f-bc2d-4f0f-82eb-a2604440325e",
   "metadata": {},
   "outputs": [
    {
     "name": "stdout",
     "output_type": "stream",
     "text": [
      " First ten X values: tensor([[0.],\n",
      "        [1.],\n",
      "        [2.],\n",
      "        [3.],\n",
      "        [4.],\n",
      "        [5.],\n",
      "        [6.],\n",
      "        [7.],\n",
      "        [8.],\n",
      "        [9.]]), Datatype: torch.float32, Shape: torch.Size([100, 1])\n",
      " First ten y values: tensor([0., 1., 0., 1., 0., 1., 0., 1., 0., 1.]), Datatype: torch.float32, Shape: torch.Size([100])\n"
     ]
    }
   ],
   "source": [
    "# Create tensors from the data\n",
    "X = torch.from_numpy(figures).type(torch.float)\n",
    "y = torch.from_numpy(labels).type(torch.float)\n",
    "\n",
    "X = torch.reshape(X, (100,1))\n",
    "\n",
    "print(f\" First ten X values: {X[:10]}, Datatype: {X.dtype}, Shape: {X.shape}\")\n",
    "print(f\" First ten y values: {y[:10]}, Datatype: {y.dtype}, Shape: {y.shape}\")"
   ]
  },
  {
   "cell_type": "code",
   "execution_count": 239,
   "id": "95fa6011-6233-4bbe-8f29-677cd941b640",
   "metadata": {},
   "outputs": [
    {
     "data": {
      "text/plain": [
       "(80, 20, 80, 20)"
      ]
     },
     "execution_count": 239,
     "metadata": {},
     "output_type": "execute_result"
    }
   ],
   "source": [
    "# Split the data into training and testing sets\n",
    "train_split = int(0.8 * len(X))\n",
    "X_train, X_test, y_train, y_test = train_test_split(X,\n",
    "                                                    y,\n",
    "                                                    test_size=0.2,\n",
    "                                                    random_state=42\n",
    "                                                   )\n",
    "\n",
    "len(X_train), len(X_test), len(y_train), len(y_test)"
   ]
  },
  {
   "cell_type": "code",
   "execution_count": 240,
   "id": "b9c84529-968e-4380-8bbf-54165ce9419a",
   "metadata": {},
   "outputs": [
    {
     "data": {
      "text/plain": [
       "EvenOddClassifierModel(\n",
       "  (layer_1): Linear(in_features=1, out_features=10, bias=True)\n",
       "  (layer_2): Linear(in_features=10, out_features=1, bias=True)\n",
       "  (relu): ReLU()\n",
       ")"
      ]
     },
     "execution_count": 240,
     "metadata": {},
     "output_type": "execute_result"
    }
   ],
   "source": [
    "# Create the model\n",
    "class EvenOddClassifierModel(nn.Module):\n",
    "    def __init__(self):\n",
    "        super().__init__()\n",
    "        self.layer_1 = nn.Linear(in_features=1, out_features=10) # Fist Linear layer\n",
    "        self.layer_2 = nn.Linear(in_features=10, out_features=1) # Second Linear layer\n",
    "        self.relu = nn.ReLU()\n",
    "    # Method for the forward pass\n",
    "    def forward(self, x: torch.Tensor) -> torch.Tensor:\n",
    "        return (self.layer_2(self.relu(self.layer_1(x))))\n",
    "\n",
    "# Create an instance of the model and move it to the device\n",
    "model_0 = EvenOddClassifierModel().to(device)\n",
    "model_0\n",
    "\n"
   ]
  },
  {
   "cell_type": "code",
   "execution_count": 249,
   "id": "f14a6337-98a3-4a35-96be-1a3595bcdff0",
   "metadata": {},
   "outputs": [
    {
     "name": "stdout",
     "output_type": "stream",
     "text": [
      "tensor([[0.1000],\n",
      "        [0.1000],\n",
      "        [0.1000],\n",
      "        [0.1000],\n",
      "        [0.1000],\n",
      "        [0.1000],\n",
      "        [0.1000],\n",
      "        [0.1000],\n",
      "        [0.1000],\n",
      "        [0.5092]])\n",
      "tensor([[83.],\n",
      "        [53.],\n",
      "        [70.],\n",
      "        [45.],\n",
      "        [44.],\n",
      "        [39.],\n",
      "        [22.],\n",
      "        [80.],\n",
      "        [10.],\n",
      "        [ 0.]])\n"
     ]
    }
   ],
   "source": [
    "# See what the model can do currently\n",
    "model_0.eval() # we are evaluating the model\n",
    "with torch.inference_mode():\n",
    "    y_logits = model_0(X_test.to(device))\n",
    "\n",
    "print(y_logits[:10])\n",
    "print(X_test[:10])"
   ]
  },
  {
   "cell_type": "code",
   "execution_count": 242,
   "id": "706dfd6c-4b00-4072-8f23-852ecd20e7aa",
   "metadata": {},
   "outputs": [],
   "source": [
    "# Create a loss function and an optimizer\n",
    "loss_fn = nn.BCEWithLogitsLoss() # BCEWithLogitsLoss = sigmoid built-in\n",
    "# loss_fn = nn.MSELoss()\n",
    "# loss_fn = nn.BCELoss()\n",
    "optimizer = torch.optim.SGD(model_0.parameters(), lr=0.1) # Stochastic gradient descent optimizer"
   ]
  },
  {
   "cell_type": "code",
   "execution_count": 243,
   "id": "c978f939-34c7-409e-9ac0-0419000515d7",
   "metadata": {},
   "outputs": [],
   "source": [
    "# Create accuracy function\n",
    "def accuracy_fn(y_true, y_pred):\n",
    "    correct = torch.eq(y_true,y_pred).sum().item() # torch.eq gets where two tensors are equal\n",
    "    acc = (correct / len(y_true)) * 100\n",
    "    return acc\n"
   ]
  },
  {
   "cell_type": "code",
   "execution_count": 252,
   "id": "ff1dcbc3-17e7-48c3-8a8b-4ebf077dc5fd",
   "metadata": {},
   "outputs": [
    {
     "name": "stdout",
     "output_type": "stream",
     "text": [
      "Epoch: 0 | Train Loss: 0.79 | Train Accuracy: 52.50% | Test Loss: 0.72 | Test Accuracy: 40.00% \n",
      "Epoch: 100 | Train Loss: 0.79 | Train Accuracy: 52.50% | Test Loss: 0.72 | Test Accuracy: 40.00% \n",
      "Epoch: 200 | Train Loss: 0.79 | Train Accuracy: 52.50% | Test Loss: 0.72 | Test Accuracy: 40.00% \n",
      "Epoch: 300 | Train Loss: 0.79 | Train Accuracy: 52.50% | Test Loss: 0.72 | Test Accuracy: 40.00% \n",
      "Epoch: 400 | Train Loss: 0.79 | Train Accuracy: 52.50% | Test Loss: 0.72 | Test Accuracy: 40.00% \n",
      "Epoch: 500 | Train Loss: 0.79 | Train Accuracy: 52.50% | Test Loss: 0.72 | Test Accuracy: 40.00% \n",
      "Epoch: 600 | Train Loss: 0.79 | Train Accuracy: 52.50% | Test Loss: 0.72 | Test Accuracy: 40.00% \n",
      "Epoch: 700 | Train Loss: 0.79 | Train Accuracy: 52.50% | Test Loss: 0.72 | Test Accuracy: 40.00% \n",
      "Epoch: 800 | Train Loss: 0.79 | Train Accuracy: 52.50% | Test Loss: 0.72 | Test Accuracy: 40.00% \n",
      "Epoch: 900 | Train Loss: 0.79 | Train Accuracy: 52.50% | Test Loss: 0.72 | Test Accuracy: 40.00% \n"
     ]
    }
   ],
   "source": [
    "# Create a test and train loop\n",
    "\n",
    "epochs = 1000\n",
    "\n",
    "for epoch in range(epochs):\n",
    "    ### Training\n",
    "    model_0.train()\n",
    "\n",
    "    # 1. Forward pass\n",
    "    train_logits = model_0(X_train).squeeze()\n",
    "    train_preds = torch.round(torch.sigmoid(train_logits))\n",
    "\n",
    "    #print(f\"\\n{train_logits[:2]}\\n\")\n",
    "    \n",
    "    # 2. Calculate loss and accuracy\n",
    "    loss = loss_fn(train_preds, y_train)\n",
    "    acc = accuracy_fn(y_train, train_preds)\n",
    "\n",
    "    # 3. Optimizer zero gras\n",
    "    optimizer.zero_grad()\n",
    "\n",
    "    # 4. Loss backwards\n",
    "    loss.backward()\n",
    "\n",
    "    # 5. Optimzer step\n",
    "    optimizer.step()\n",
    "\n",
    "    ### Testing\n",
    "    model_0.eval()\n",
    "    with torch.inference_mode():\n",
    "        # 1. Forward pass\n",
    "        test_logits = model_0(X_test.to(device)).squeeze()\n",
    "        test_preds = torch.round(torch.sigmoid(test_logits))\n",
    "\n",
    "        # 2. Calculate loss and accuracy\n",
    "        test_loss = loss_fn(test_logits, y_test)\n",
    "        test_acc = accuracy_fn(y_test, test_preds)\n",
    "\n",
    "    # Print what's happening\n",
    "    if epoch % 100 == 0:\n",
    "        # print(f\"X_test: {X_test[:10]} Test logits: {test_logits[:10]}\")\n",
    "        # print(list(model_0.parameters()))\n",
    "        print(f\"Epoch: {epoch} | Train Loss: {loss:.2f} | Train Accuracy: {acc:.2f}% | Test Loss: {test_loss:.2f} | Test Accuracy: {test_acc:.2f}% \")\n",
    "\n",
    "\n"
   ]
  },
  {
   "cell_type": "code",
   "execution_count": null,
   "id": "ac11f064-5cb9-4e7c-ac70-ce010110c5e7",
   "metadata": {},
   "outputs": [],
   "source": [
    "# Plot the data to visuaize\n",
    "x_values, y_values = X_test[:10], test_preds[:10]\n",
    "\n",
    "plt.figure(figsize=(6,4))\n",
    "plt.scatter(x=x_values,y=y_values, c=y_values, cmap=plt.cm.RdYlBu)\n",
    "\n",
    "# Plot the data to visuaize\n",
    "x_values, y_values = X_test[:10], y_test[:10]\n",
    "\n",
    "plt.figure(figsize=(6,4))\n",
    "plt.scatter(x=x_values,y=y_values, c=y_values, cmap=plt.cm.RdYlBu)"
   ]
  },
  {
   "cell_type": "code",
   "execution_count": null,
   "id": "a3a53c58-6061-496a-a6fe-9a7d39072d32",
   "metadata": {},
   "outputs": [],
   "source": []
  },
  {
   "cell_type": "code",
   "execution_count": 266,
   "id": "cef83a96-b80e-4732-94bd-7ff4ee576c22",
   "metadata": {},
   "outputs": [
    {
     "name": "stdout",
     "output_type": "stream",
     "text": [
      "10011100010000\n"
     ]
    }
   ],
   "source": [
    "print(bin(10000)[2:].zfill(8))"
   ]
  },
  {
   "cell_type": "code",
   "execution_count": 273,
   "id": "22a610c6-4f1e-4866-87e4-9fc87d97c9d5",
   "metadata": {},
   "outputs": [
    {
     "data": {
      "text/plain": [
       "array([[0, 0, 0, 1],\n",
       "       [0, 0, 1, 0],\n",
       "       [0, 0, 1, 1],\n",
       "       [0, 1, 0, 0]])"
      ]
     },
     "execution_count": 273,
     "metadata": {},
     "output_type": "execute_result"
    }
   ],
   "source": [
    "inputs =   np.array([[0,0,0,0], # 0\n",
    "                     [0,0,0,1], # 1\n",
    "                     [0,0,1,0], # 2\n",
    "                     [0,0,1,1], # 3\n",
    "                     [0,1,0,0], # 4\n",
    "                     [0,1,0,1], # 5\n",
    "                     [0,1,1,0], # 6\n",
    "                     [0,1,1,1], # 7\n",
    "                     [1,0,0,0], # 8\n",
    "                     [1,0,0,1]) # 9\n",
    "\n",
    "outputs = np.array([[0,0], # 0\n",
    "                   [0,1], # 1\n",
    "                   [1,0], # 2\n",
    "                   [0,1], # 3\n",
    "                   [1,0], # 4\n",
    "                   [0,1], # 5\n",
    "                   [1,0], # 6\n",
    "                   [0,1], # 7\n",
    "                   [1,0], # 8\n",
    "                   [0,1]) # 9\n",
    "\n",
    "    "
   ]
  },
  {
   "cell_type": "code",
   "execution_count": null,
   "id": "5f7dbfd2-d70d-4dda-8e93-020aecc8e09d",
   "metadata": {},
   "outputs": [],
   "source": []
  }
 ],
 "metadata": {
  "kernelspec": {
   "display_name": "Python 3 (ipykernel)",
   "language": "python",
   "name": "python3"
  },
  "language_info": {
   "codemirror_mode": {
    "name": "ipython",
    "version": 3
   },
   "file_extension": ".py",
   "mimetype": "text/x-python",
   "name": "python",
   "nbconvert_exporter": "python",
   "pygments_lexer": "ipython3",
   "version": "3.10.12"
  }
 },
 "nbformat": 4,
 "nbformat_minor": 5
}
