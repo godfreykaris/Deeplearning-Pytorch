{
 "cells": [
  {
   "cell_type": "markdown",
   "id": "96ca0088-e478-408d-a4d2-35f1af54ae7a",
   "metadata": {},
   "source": [
    "# Creating a tensor with zeros happens a lot with masking (like masking some of the values in one tensor with zeros to let a model know not to learn them)."
   ]
  },
  {
   "cell_type": "code",
   "execution_count": 3,
   "id": "788dd80f-0e07-4c77-a111-08c102861da0",
   "metadata": {},
   "outputs": [
    {
     "data": {
      "text/plain": [
       "(tensor([[0., 0., 0., 0.],\n",
       "         [0., 0., 0., 0.],\n",
       "         [0., 0., 0., 0.]]),\n",
       " torch.float32)"
      ]
     },
     "execution_count": 3,
     "metadata": {},
     "output_type": "execute_result"
    }
   ],
   "source": [
    " # Create a tensor with all zeros\n",
    "zeros = torch.zeros(size=(3,4))\n",
    "zeros, zeros.dtype"
   ]
  },
  {
   "cell_type": "code",
   "execution_count": 15,
   "id": "fe160115",
   "metadata": {},
   "outputs": [
    {
     "data": {
      "text/plain": [
       "tensor([0, 2, 4, 6, 8])"
      ]
     },
     "execution_count": 15,
     "metadata": {},
     "output_type": "execute_result"
    }
   ],
   "source": [
    "# Create a tensor with range 0-10\n",
    "start = 0\n",
    "end = 10\n",
    "step = 2\n",
    "\n",
    "range_tensor = torch.tensor(range(start, end, step))\n",
    "range_tensor"
   ]
  },
  {
   "cell_type": "code",
   "execution_count": 16,
   "id": "21821b95-c9c4-4e87-aad4-9cf8d4d05763",
   "metadata": {},
   "outputs": [
    {
     "data": {
      "text/plain": [
       "(torch.Size([3]), torch.float32, device(type='cpu'))"
      ]
     },
     "execution_count": 16,
     "metadata": {},
     "output_type": "execute_result"
    }
   ],
   "source": [
    "# Default datatype for tensors is float32\n",
    "float_32_tensor = torch.tensor([3.0, 6.0, 9.0],\n",
    "                               dtype=None, # defaults to None, which is torch.float32 or whatever datatype is passed\n",
    "                               device=None, # defaults to None, which uses the default tensor type\n",
    "                               requires_grad=False) # if True, operations performed on the tensor are recorded \n",
    "\n",
    "float_32_tensor.shape, float_32_tensor.dtype, float_32_tensor.device"
   ]
  },
  {
   "cell_type": "code",
   "execution_count": 17,
   "id": "646c76e2-3029-4a6b-a8be-82aaa219565d",
   "metadata": {},
   "outputs": [
    {
     "name": "stdout",
     "output_type": "stream",
     "text": [
      "tensor([[0.4439, 0.4314, 0.5199, 0.7565],\n",
      "        [0.2533, 0.7219, 0.3291, 0.9878],\n",
      "        [0.9224, 0.0362, 0.7364, 0.9798]])\n",
      "Shape of tensor: torch.Size([3, 4])\n",
      "Datatype of tensor: torch.float32\n",
      "Device tensor is stored on: cpu\n"
     ]
    }
   ],
   "source": [
    "# Create a tensor\n",
    "some_tensor = torch.rand(3, 4)\n",
    "\n",
    "# Find out details about it\n",
    "print(some_tensor)\n",
    "print(f\"Shape of tensor: {some_tensor.shape}\")\n",
    "print(f\"Datatype of tensor: {some_tensor.dtype}\")\n",
    "print(f\"Device tensor is stored on: {some_tensor.device}\") # will default to CPU"
   ]
  },
  {
   "cell_type": "code",
   "execution_count": 18,
   "id": "5c0834a5-ae89-4442-9e64-4feee6724ba3",
   "metadata": {},
   "outputs": [
    {
     "data": {
      "text/plain": [
       "tensor([11, 12, 13])"
      ]
     },
     "execution_count": 18,
     "metadata": {},
     "output_type": "execute_result"
    }
   ],
   "source": [
    "# Create a tensor of values and add a number to it\n",
    "tensor = torch.tensor([1, 2, 3])\n",
    "tensor + 10"
   ]
  },
  {
   "cell_type": "code",
   "execution_count": 19,
   "id": "233cac3f-54bc-4ab7-b60d-d938526b01b7",
   "metadata": {},
   "outputs": [
    {
     "data": {
      "text/plain": [
       "tensor([10, 20, 30])"
      ]
     },
     "execution_count": 19,
     "metadata": {},
     "output_type": "execute_result"
    }
   ],
   "source": [
    "# Multiply it by 10\n",
    "tensor * 10"
   ]
  },
  {
   "cell_type": "code",
   "execution_count": 20,
   "id": "47d645c1-9212-4612-99b7-8794adcebd07",
   "metadata": {},
   "outputs": [
    {
     "data": {
      "text/plain": [
       "tensor([1, 2, 3])"
      ]
     },
     "execution_count": 20,
     "metadata": {},
     "output_type": "execute_result"
    }
   ],
   "source": [
    "# Tensors don't change unless reassigned\n",
    "tensor"
   ]
  },
  {
   "cell_type": "code",
   "execution_count": 22,
   "id": "4cad2460-5500-4a4b-ac48-a3ac71cd1fe6",
   "metadata": {},
   "outputs": [
    {
     "name": "stdout",
     "output_type": "stream",
     "text": [
      "tensor([1, 2, 3]) * tensor([1, 2, 3])\n",
      "Equals: tensor([1, 4, 9])\n"
     ]
    }
   ],
   "source": [
    "# Element-wise multiplication (each element multiplies its equivalent, index 0->0, 1->1, 2->2)\n",
    "print(tensor, \"*\", tensor)\n",
    "print(\"Equals:\", tensor * tensor)"
   ]
  },
  {
   "cell_type": "markdown",
   "id": "ecf045b5-a8dc-417f-8f48-b52716ef5790",
   "metadata": {},
   "source": [
    "<!-- PyTorch implements matrix multiplication functionality in the torch.matmul() method.\n",
    "\n",
    "The main two rules for matrix multiplication to remember are:\n",
    "\n",
    "    The inner dimensions must match:\n",
    "\n",
    "    (3, 2) @ (3, 2) won't work\n",
    "    (2, 3) @ (3, 2) will work\n",
    "    (3, 2) @ (2, 3) will work\n",
    "\n",
    "    The resulting matrix has the shape of the outer dimensions:\n",
    "\n",
    "    (2, 3) @ (3, 2) -> (2, 2)\n",
    "    (3, 2) @ (2, 3) -> (3, 3)\n",
    "\n",
    "    Note: \"@\" in Python is the symbol for matrix multiplication.\n",
    " -->"
   ]
  },
  {
   "cell_type": "code",
   "execution_count": 23,
   "id": "30f1788f-d9eb-4818-b2f8-7698be334917",
   "metadata": {},
   "outputs": [
    {
     "data": {
      "text/plain": [
       "torch.Size([3])"
      ]
     },
     "execution_count": 23,
     "metadata": {},
     "output_type": "execute_result"
    }
   ],
   "source": [
    "import torch\n",
    "tensor = torch.tensor([1,2,3])\n",
    "tensor.shape"
   ]
  },
  {
   "cell_type": "markdown",
   "id": "440964bd-a75d-4758-bfc2-16ff191dfd1f",
   "metadata": {},
   "source": [
    "# Element-wise multiplication \t[1*1, 2*2, 3*3] = [1, 4, 9] tensor * tensor\n",
    "# Matrix multiplication \t[1*1 + 2*2 + 3*3] = [14] \ttensor.matmul(tensor)\n"
   ]
  }
 ],
 "metadata": {
  "kernelspec": {
   "display_name": "Python 3 (ipykernel)",
   "language": "python",
   "name": "python3"
  },
  "language_info": {
   "codemirror_mode": {
    "name": "ipython",
    "version": 3
   },
   "file_extension": ".py",
   "mimetype": "text/x-python",
   "name": "python",
   "nbconvert_exporter": "python",
   "pygments_lexer": "ipython3",
   "version": "3.10.12"
  }
 },
 "nbformat": 4,
 "nbformat_minor": 5
}
